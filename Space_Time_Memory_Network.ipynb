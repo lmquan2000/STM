{
 "cells": [
  {
   "cell_type": "code",
   "execution_count": null,
   "metadata": {
    "colab": {},
    "colab_type": "code",
    "id": "42DDYADFriYI"
   },
   "outputs": [],
   "source": [
    "!wget -p https://data.vision.ee.ethz.ch/csergi/share/davis/DAVIS-2017-trainval-480p.zip \n",
    "!unzip 'data.vision.ee.ethz.ch/csergi/share/davis/DAVIS-2017-trainval-480p.zip' -d 'Data'"
   ]
  },
  {
   "cell_type": "code",
   "execution_count": null,
   "metadata": {
    "colab": {},
    "colab_type": "code",
    "id": "tFqflwTQsHNs"
   },
   "outputs": [],
   "source": [
    "!wget -p 'https://data.vision.ee.ethz.ch/csergi/share/davis/DAVIS-2017-test-dev-480p.zip' \n",
    "!unzip 'data.vision.ee.ethz.ch/csergi/share/davis/DAVIS-2017-test-dev-480p.zip' -d 'DataTest'"
   ]
  },
  {
   "cell_type": "code",
   "execution_count": null,
   "metadata": {
    "colab": {
     "base_uri": "https://localhost:8080/",
     "height": 153
    },
    "colab_type": "code",
    "id": "b9JRLWXYLkPq",
    "outputId": "9b8ad91c-8326-495a-f721-a8d5910ab2f8"
   },
   "outputs": [
    {
     "name": "stdout",
     "output_type": "stream",
     "text": [
      "--2020-05-09 06:55:52--  https://data.vision.ee.ethz.ch/csergi/share/davis/DAVIS-2017-test-challenge-480p.zip\n",
      "Resolving data.vision.ee.ethz.ch (data.vision.ee.ethz.ch)... 129.132.52.162\n",
      "Connecting to data.vision.ee.ethz.ch (data.vision.ee.ethz.ch)|129.132.52.162|:443... connected.\n",
      "HTTP request sent, awaiting response... 200 OK\n",
      "Length: 306120011 (292M) [application/zip]\n",
      "Saving to: ‘data.vision.ee.ethz.ch/csergi/share/davis/DAVIS-2017-test-challenge-480p.zip’\n",
      "\n",
      "ta.vision.ee.ethz.c   6%[>                   ]  18.43M  6.74MB/s               ^C\n"
     ]
    }
   ],
   "source": [
    "!wget -p 'https://data.vision.ee.ethz.ch/csergi/share/davis/DAVIS-2017-test-challenge-480p.zip'\n",
    "!unzip 'data.vision.ee.ethz.ch/csergi/share/davis/DAVIS-2017-test-challenge-480p.zip' -d 'DataTestChallenge'"
   ]
  },
  {
   "cell_type": "code",
   "execution_count": 1,
   "metadata": {
    "colab": {
     "base_uri": "https://localhost:8080/",
     "height": 377
    },
    "colab_type": "code",
    "id": "G52ZsUwXd4_R",
    "outputId": "1f4dd44f-cb02-4c16-f3d9-ee4b21eb4860"
   },
   "outputs": [
    {
     "name": "stdout",
     "output_type": "stream",
     "text": [
      "Requirement already satisfied: torchnet in /usr/local/lib/python3.6/dist-packages (0.0.4)\n",
      "Requirement already satisfied: six in /usr/local/lib/python3.6/dist-packages (from torchnet) (1.12.0)\n",
      "Requirement already satisfied: torch in /usr/local/lib/python3.6/dist-packages (from torchnet) (1.5.0+cu101)\n",
      "Requirement already satisfied: visdom in /usr/local/lib/python3.6/dist-packages (from torchnet) (0.1.8.9)\n",
      "Requirement already satisfied: numpy in /usr/local/lib/python3.6/dist-packages (from torch->torchnet) (1.18.4)\n",
      "Requirement already satisfied: future in /usr/local/lib/python3.6/dist-packages (from torch->torchnet) (0.16.0)\n",
      "Requirement already satisfied: scipy in /usr/local/lib/python3.6/dist-packages (from visdom->torchnet) (1.4.1)\n",
      "Requirement already satisfied: torchfile in /usr/local/lib/python3.6/dist-packages (from visdom->torchnet) (0.1.0)\n",
      "Requirement already satisfied: websocket-client in /usr/local/lib/python3.6/dist-packages (from visdom->torchnet) (0.57.0)\n",
      "Requirement already satisfied: requests in /usr/local/lib/python3.6/dist-packages (from visdom->torchnet) (2.23.0)\n",
      "Requirement already satisfied: pyzmq in /usr/local/lib/python3.6/dist-packages (from visdom->torchnet) (19.0.0)\n",
      "Requirement already satisfied: pillow in /usr/local/lib/python3.6/dist-packages (from visdom->torchnet) (7.0.0)\n",
      "Requirement already satisfied: jsonpatch in /usr/local/lib/python3.6/dist-packages (from visdom->torchnet) (1.25)\n",
      "Requirement already satisfied: tornado in /usr/local/lib/python3.6/dist-packages (from visdom->torchnet) (4.5.3)\n",
      "Requirement already satisfied: chardet<4,>=3.0.2 in /usr/local/lib/python3.6/dist-packages (from requests->visdom->torchnet) (3.0.4)\n",
      "Requirement already satisfied: urllib3!=1.25.0,!=1.25.1,<1.26,>=1.21.1 in /usr/local/lib/python3.6/dist-packages (from requests->visdom->torchnet) (1.24.3)\n",
      "Requirement already satisfied: certifi>=2017.4.17 in /usr/local/lib/python3.6/dist-packages (from requests->visdom->torchnet) (2020.4.5.1)\n",
      "Requirement already satisfied: idna<3,>=2.5 in /usr/local/lib/python3.6/dist-packages (from requests->visdom->torchnet) (2.9)\n",
      "Requirement already satisfied: jsonpointer>=1.9 in /usr/local/lib/python3.6/dist-packages (from jsonpatch->visdom->torchnet) (2.0)\n",
      "Requirement already up-to-date: tqdm in /usr/local/lib/python3.6/dist-packages (4.46.0)\n"
     ]
    }
   ],
   "source": [
    "!pip install torchnet\n",
    "!pip install tqdm --upgrade"
   ]
  },
  {
   "cell_type": "code",
   "execution_count": 2,
   "metadata": {
    "colab": {
     "base_uri": "https://localhost:8080/",
     "height": 34
    },
    "colab_type": "code",
    "id": "7cbUQvpKsI21",
    "outputId": "2902dd1c-d139-4566-dbbc-2690d727f220"
   },
   "outputs": [
    {
     "name": "stdout",
     "output_type": "stream",
     "text": [
      "Cloning into 'STM'...\n",
      "remote: Enumerating objects: 12, done.\u001b[K\n",
      "remote: Counting objects: 100% (12/12), done.\u001b[K\n",
      "remote: Compressing objects: 100% (9/9), done.\u001b[K\n",
      "remote: Total 2547 (delta 5), reused 9 (delta 3), pack-reused 2535\u001b[K\n",
      "Receiving objects: 100% (2547/2547), 6.74 MiB | 846.00 KiB/s, done.\n",
      "Resolving deltas: 100% (333/333), done.\n"
     ]
    }
   ],
   "source": [
    "!git clone https://github.com/nero1342/STM.git "
   ]
  },
  {
   "cell_type": "markdown",
   "metadata": {
    "colab_type": "text",
    "id": "BZb_qkxvL2es"
   },
   "source": [
    "# Pre-trained weights"
   ]
  },
  {
   "cell_type": "code",
   "execution_count": null,
   "metadata": {
    "colab": {
     "base_uri": "https://localhost:8080/",
     "height": 377
    },
    "colab_type": "code",
    "id": "ykAeozRaLzVz",
    "outputId": "5f260c44-5a6f-476a-8244-e7e239c00a99"
   },
   "outputs": [
    {
     "name": "stdout",
     "output_type": "stream",
     "text": [
      "--2020-05-09 06:58:39--  https://www.dropbox.com/s/mtfxdr93xc3q55i/STM_weights.pth?dl=1\n",
      "Resolving www.dropbox.com (www.dropbox.com)... 162.125.1.1, 2620:100:6016:1::a27d:101\n",
      "Connecting to www.dropbox.com (www.dropbox.com)|162.125.1.1|:443... connected.\n",
      "HTTP request sent, awaiting response... 301 Moved Permanently\n",
      "Location: /s/dl/mtfxdr93xc3q55i/STM_weights.pth [following]\n",
      "--2020-05-09 06:58:39--  https://www.dropbox.com/s/dl/mtfxdr93xc3q55i/STM_weights.pth\n",
      "Reusing existing connection to www.dropbox.com:443.\n",
      "HTTP request sent, awaiting response... 302 Found\n",
      "Location: https://uc761d132739949bff1e8791cf00.dl.dropboxusercontent.com/cd/0/get/A3b5AdnRsGK8R3_jRsT5enUWyXp0YIdwSrHVsQVUG-juoL-yBVTe670KYz0DRrGWSy65YO0dBzC4FIOS6XWqE1aV4KK17AatRpgZMcPEOk0vyBHWXeoUPW_Ygz03RuRS4vo/file?dl=1# [following]\n",
      "--2020-05-09 06:58:39--  https://uc761d132739949bff1e8791cf00.dl.dropboxusercontent.com/cd/0/get/A3b5AdnRsGK8R3_jRsT5enUWyXp0YIdwSrHVsQVUG-juoL-yBVTe670KYz0DRrGWSy65YO0dBzC4FIOS6XWqE1aV4KK17AatRpgZMcPEOk0vyBHWXeoUPW_Ygz03RuRS4vo/file?dl=1\n",
      "Resolving uc761d132739949bff1e8791cf00.dl.dropboxusercontent.com (uc761d132739949bff1e8791cf00.dl.dropboxusercontent.com)... 162.125.1.6, 2620:100:6016:6::a27d:106\n",
      "Connecting to uc761d132739949bff1e8791cf00.dl.dropboxusercontent.com (uc761d132739949bff1e8791cf00.dl.dropboxusercontent.com)|162.125.1.6|:443... connected.\n",
      "HTTP request sent, awaiting response... 200 OK\n",
      "Length: 156045572 (149M) [application/binary]\n",
      "Saving to: ‘STM_weights.pth’\n",
      "\n",
      "STM_weights.pth     100%[===================>] 148.82M  27.8MB/s    in 5.5s    \n",
      "\n",
      "2020-05-09 06:58:45 (27.0 MB/s) - ‘STM_weights.pth’ saved [156045572/156045572]\n",
      "\n"
     ]
    }
   ],
   "source": [
    "!wget -O STM_weights.pth \"https://www.dropbox.com/s/mtfxdr93xc3q55i/STM_weights.pth?dl=1\"\n",
    "#!mv STM_weights.pth STM/"
   ]
  },
  {
   "cell_type": "code",
   "execution_count": null,
   "metadata": {
    "colab": {
     "base_uri": "https://localhost:8080/",
     "height": 122
    },
    "colab_type": "code",
    "id": "F1nK2fF6dFHp",
    "outputId": "f8b6233a-10ce-4606-f0f6-74bf16b911b0"
   },
   "outputs": [
    {
     "name": "stdout",
     "output_type": "stream",
     "text": [
      "Go to this URL in a browser: https://accounts.google.com/o/oauth2/auth?client_id=947318989803-6bn6qk8qdgf4n4g3pfee6491hc0brc4i.apps.googleusercontent.com&redirect_uri=urn%3aietf%3awg%3aoauth%3a2.0%3aoob&response_type=code&scope=email%20https%3a%2f%2fwww.googleapis.com%2fauth%2fdocs.test%20https%3a%2f%2fwww.googleapis.com%2fauth%2fdrive%20https%3a%2f%2fwww.googleapis.com%2fauth%2fdrive.photos.readonly%20https%3a%2f%2fwww.googleapis.com%2fauth%2fpeopleapi.readonly\n",
      "\n",
      "Enter your authorization code:\n",
      "··········\n",
      "Mounted at /content/drive\n"
     ]
    }
   ],
   "source": [
    "from google.colab import drive\n",
    "drive.mount('/content/drive')"
   ]
  },
  {
   "cell_type": "markdown",
   "metadata": {
    "colab_type": "text",
    "id": "DuNlC7HoRTeV"
   },
   "source": [
    "# Split data into instance objects"
   ]
  },
  {
   "cell_type": "code",
   "execution_count": 1,
   "metadata": {
    "colab": {},
    "colab_type": "code",
    "id": "2RmISMaZ4q3-"
   },
   "outputs": [],
   "source": [
    "from STM.split_instance import split_instance"
   ]
  },
  {
   "cell_type": "code",
   "execution_count": 2,
   "metadata": {
    "colab": {
     "base_uri": "https://localhost:8080/",
     "height": 1000
    },
    "colab_type": "code",
    "id": "O0XdPXItTTiK",
    "outputId": "429771f7-3207-4c0d-a7d6-4aa1469113e9"
   },
   "outputs": [
    {
     "name": "stdout",
     "output_type": "stream",
     "text": [
      "Generating seperate mask..\n",
      "bike-trial\n",
      "[0 1 2]\n",
      "bike-trial 0 / 85 with 2 instance(s).\n",
      "boxing\n",
      "[0 1 2 3]\n",
      "boxing 0 / 87 with 3 instance(s).\n",
      "burnout\n",
      "[0 1]\n",
      "burnout 0 / 72 with 1 instance(s).\n",
      "choreography\n",
      "[0 1 2 3 4 5 6 7]\n",
      "choreography 0 / 74 with 7 instance(s).\n",
      "demolition\n",
      "[0 1 2 3]\n",
      "demolition 0 / 92 with 3 instance(s).\n",
      "dive-in\n",
      "[0 1]\n",
      "dive-in 0 / 70 with 1 instance(s).\n",
      "dog-control\n",
      "[0 1 2 3 4 5]\n",
      "dog-control 0 / 60 with 5 instance(s).\n",
      "dolphins\n",
      "[0 1 2 3 4 5 6]\n",
      "dolphins 0 / 59 with 6 instance(s).\n",
      "e-bike\n",
      "[0 1 2]\n",
      "e-bike 0 / 80 with 2 instance(s).\n",
      "grass-chopper\n",
      "[0 1 2 3 4]\n",
      "grass-chopper 0 / 75 with 4 instance(s).\n",
      "hurdles\n",
      "[0 1 2 3]\n",
      "hurdles 0 / 101 with 3 instance(s).\n",
      "inflatable\n",
      "[0 1 2 3]\n",
      "inflatable 0 / 60 with 3 instance(s).\n",
      "juggle\n",
      "[0 1 2 3 4]\n",
      "juggle 0 / 68 with 4 instance(s).\n",
      "kart-turn\n",
      "[0 1 2 3 4]\n",
      "kart-turn 0 / 83 with 4 instance(s).\n",
      "kids-turning\n",
      "[0 1 2]\n",
      "kids-turning 0 / 80 with 2 instance(s).\n",
      "lions\n",
      "[0 1 2 3]\n",
      "lions 0 / 96 with 3 instance(s).\n",
      "mbike-santa\n",
      "[0 1 2]\n",
      "mbike-santa 0 / 60 with 2 instance(s).\n",
      "monkeys\n",
      "[0 1 2]\n",
      "monkeys 0 / 87 with 2 instance(s).\n",
      "ocean-birds\n",
      "[0 1 2]\n",
      "ocean-birds 0 / 35 with 2 instance(s).\n",
      "pole-vault\n",
      "[0 1 2]\n",
      "pole-vault 0 / 73 with 2 instance(s).\n",
      "running\n",
      "[0 1 2]\n",
      "running 0 / 72 with 2 instance(s).\n",
      "selfie\n",
      "[0 1 2 3 4 5]\n",
      "selfie 0 / 68 with 5 instance(s).\n",
      "skydive\n",
      "[0 1 2 3]\n",
      "skydive 0 / 81 with 3 instance(s).\n",
      "speed-skating\n",
      "[0 1 2 3]\n",
      "speed-skating 0 / 83 with 3 instance(s).\n",
      "swing-boy\n",
      "[0 1 2]\n",
      "swing-boy 0 / 70 with 2 instance(s).\n",
      "tackle\n",
      "[0 1 2 3]\n",
      "tackle 0 / 56 with 3 instance(s).\n",
      "turtle\n",
      "[0 1]\n",
      "turtle 0 / 76 with 1 instance(s).\n",
      "varanus-tree\n",
      "[0 1 2]\n",
      "varanus-tree 0 / 52 with 2 instance(s).\n",
      "vietnam\n",
      "[0 1 2 3 4 5 6 7]\n",
      "vietnam 0 / 66 with 7 instance(s).\n",
      "wings-turn\n",
      "[0 1 2 3]\n",
      "wings-turn 0 / 59 with 3 instance(s).\n",
      "\n",
      "Done...\n"
     ]
    }
   ],
   "source": [
    "split_instance(images_dir = 'DAVIS-test-challenge/DAVIS/JPEGImages/480p', \n",
    "            masks_dir = 'DAVIS-test-challenge/DAVIS/Annotations/480p', \n",
    "            imset = 'DAVIS-test-challenge/DAVIS/ImageSets/2017/test-challenge.txt', \n",
    "            dest_dir = 'DAVIS-Instance-TestChallenge', \n",
    "            type = 'test-challenge')\n"
   ]
  },
  {
   "cell_type": "code",
   "execution_count": null,
   "metadata": {
    "colab": {},
    "colab_type": "code",
    "id": "y3tuErLPTvIu"
   },
   "outputs": [
    {
     "name": "stdout",
     "output_type": "stream",
     "text": [
      "Space-time Memory Networks: initialized.\n",
      "STM : Testing on DAVIS\n",
      "using Cuda devices, num: 1\n",
      "--- Produce mask overaid video outputs. Evaluation will run slow.\n",
      "--- Require FFMPEG for encoding, Check folder ./viz\n",
      "Number of class: 3\n",
      "Loading weights: STM_weights.pth\n",
      "Start Testing: STM_DAVIS_17test-challenge\n",
      "[bike-trial_01]: num_frames: 85, num_objects: 1\n",
      "100%|███████████████████████████████████████████| 84/84 [00:13<00:00,  6.04it/s]\n",
      "Saving mask...\n",
      "(3, 85, 480, 854)\n",
      "Saving video...\n",
      "100%|███████████████████████████████████████████| 85/85 [00:02<00:00, 38.01it/s]\n",
      "[bike-trial_02]: num_frames: 85, num_objects: 1\n",
      "100%|███████████████████████████████████████████| 84/84 [00:13<00:00,  6.12it/s]\n",
      "Saving mask...\n",
      "(3, 85, 480, 854)\n",
      "Saving video...\n",
      "100%|███████████████████████████████████████████| 85/85 [00:01<00:00, 66.75it/s]\n",
      "[boxing_01]: num_frames: 87, num_objects: 1\n",
      "100%|███████████████████████████████████████████| 86/86 [00:14<00:00,  6.03it/s]\n",
      "Saving mask...\n",
      "(3, 87, 480, 854)\n",
      "Saving video...\n",
      "100%|███████████████████████████████████████████| 87/87 [00:02<00:00, 33.55it/s]\n",
      "[boxing_02]: num_frames: 87, num_objects: 1\n",
      "100%|███████████████████████████████████████████| 86/86 [00:14<00:00,  6.03it/s]\n",
      "Saving mask...\n",
      "(3, 87, 480, 854)\n",
      "Saving video...\n",
      "100%|███████████████████████████████████████████| 87/87 [00:01<00:00, 51.68it/s]\n"
     ]
    }
   ],
   "source": [
    "!python STM/eval_DAVIS.py -g 0 -s 'test-challenge' -y 17 -viz -D 'DAVIS-Instance-TestChallenge'"
   ]
  },
  {
   "cell_type": "code",
   "execution_count": 2,
   "metadata": {},
   "outputs": [
    {
     "data": {
      "text/plain": [
       "'/home/nero/DAVIS/mask_instance+dilation50x4.zip'"
      ]
     },
     "execution_count": 2,
     "metadata": {},
     "output_type": "execute_result"
    }
   ],
   "source": [
    "import shutil\n",
    "shutil.make_archive('mask_instance+dilation50x4','zip','test_instance+dilation50x4/STM_DAVIS_17test-challenge')"
   ]
  },
  {
   "cell_type": "code",
   "execution_count": 44,
   "metadata": {},
   "outputs": [
    {
     "data": {
      "text/plain": [
       "'/home/nero/DAVIS/video_instance_dilation+gaussian.zip'"
      ]
     },
     "execution_count": 44,
     "metadata": {},
     "output_type": "execute_result"
    }
   ],
   "source": [
    "import shutil\n",
    "shutil.make_archive('video_instance_dilation+gaussian','zip','viz_instance_dilation+gaussian/STM_DAVIS_17test-challenge')"
   ]
  },
  {
   "cell_type": "code",
   "execution_count": 1,
   "metadata": {},
   "outputs": [
    {
     "name": "stdout",
     "output_type": "stream",
     "text": [
      " DAVIS-Instance-TestChallenge  'Space_Time_Memory_Network (1).ipynb'\n",
      " __pycache__\t\t        STM\n"
     ]
    }
   ],
   "source": [
    "!ls"
   ]
  },
  {
   "cell_type": "code",
   "execution_count": null,
   "metadata": {},
   "outputs": [],
   "source": []
  }
 ],
 "metadata": {
  "accelerator": "GPU",
  "colab": {
   "collapsed_sections": [],
   "machine_shape": "hm",
   "name": "Space-Time Memory Network",
   "provenance": [],
   "toc_visible": true
  },
  "kernelspec": {
   "display_name": "Python 3",
   "language": "python",
   "name": "python3"
  },
  "language_info": {
   "codemirror_mode": {
    "name": "ipython",
    "version": 3
   },
   "file_extension": ".py",
   "mimetype": "text/x-python",
   "name": "python",
   "nbconvert_exporter": "python",
   "pygments_lexer": "ipython3",
   "version": "3.6.9"
  }
 },
 "nbformat": 4,
 "nbformat_minor": 4
}
